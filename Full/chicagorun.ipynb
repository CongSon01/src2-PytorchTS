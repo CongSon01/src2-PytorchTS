{
 "cells": [
  {
   "cell_type": "code",
   "execution_count": 1,
   "metadata": {},
   "outputs": [],
   "source": [
    "import matplotlib.pyplot as plt\n",
    "import pandas as pd\n",
    "import numpy as np\n",
    "\n",
    "from gluonts.evaluation import MultivariateEvaluator, Evaluator\n",
    "from gluonts.evaluation.backtest import make_evaluation_predictions\n",
    "\n",
    "from hyperparams import Hyperparams\n",
    "from multivariate_models import models_dict\n",
    "\n",
    "from gluonts.dataset.common import ListDataset\n",
    "\n",
    "import warnings\n",
    "warnings.filterwarnings(\"ignore\")\n",
    "\n",
    "import os\n",
    "\n",
    "from gluonts.dataset.rolling_dataset import (\n",
    "    StepStrategy,\n",
    "    generate_rolling_dataset,\n",
    ")\n",
    "from gluonts.dataset.field_names import FieldName\n",
    "from gluonts.dataset.util import to_pandas"
   ]
  },
  {
   "cell_type": "code",
   "execution_count": null,
   "metadata": {},
   "outputs": [],
   "source": [
    "from batchuoctrainandplot import data_creation,training_model,truncate_features,metrics_rolling_dataset\n"
   ]
  },
  {
   "cell_type": "code",
   "execution_count": 3,
   "metadata": {},
   "outputs": [],
   "source": [
    "params = Hyperparams(hybridize=True)\n"
   ]
  },
  {
   "cell_type": "code",
   "execution_count": 4,
   "metadata": {},
   "outputs": [
    {
     "name": "stdout",
     "output_type": "stream",
     "text": [
      "Time test start 2024-03-25 00:00\n",
      "Time test end 2024-03-31 23:45\n",
      "Batch size 30\n",
      "Model type multivariate\n",
      "Model name DeepNegPol\n"
     ]
    }
   ],
   "source": [
    "print('Time test start',params.test_start)\n",
    "print('Time test end',params.test_end)\n",
    "print('Batch size',params.batch_size)\n",
    "print('Model type',params.model_type)\n",
    "print('Model name',params.modele)"
   ]
  },
  {
   "cell_type": "code",
   "execution_count": 5,
   "metadata": {},
   "outputs": [],
   "source": [
    "import torch\n",
    "device = torch.device(\"cuda\" if torch.cuda.is_available() else \"cpu\")\n"
   ]
  },
  {
   "cell_type": "code",
   "execution_count": 6,
   "metadata": {},
   "outputs": [],
   "source": [
    "train_ds, test_ds, target_dim = data_creation(params.model_type, params.test_end,params)\n"
   ]
  },
  {
   "cell_type": "code",
   "execution_count": 7,
   "metadata": {},
   "outputs": [
    {
     "data": {
      "text/plain": [
       "151"
      ]
     },
     "execution_count": 7,
     "metadata": {},
     "output_type": "execute_result"
    }
   ],
   "source": [
    "target_dim"
   ]
  },
  {
   "cell_type": "code",
   "execution_count": 8,
   "metadata": {},
   "outputs": [
    {
     "data": {
      "application/vnd.jupyter.widget-view+json": {
       "model_id": "91378bb19e3346e6a27323fb2fea2570",
       "version_major": 2,
       "version_minor": 0
      },
      "text/plain": [
       "  0%|          | 0/99 [00:00<?, ?it/s]"
      ]
     },
     "metadata": {},
     "output_type": "display_data"
    },
    {
     "data": {
      "application/vnd.jupyter.widget-view+json": {
       "model_id": "fad3951871ba4d2294ab054359b9eb71",
       "version_major": 2,
       "version_minor": 0
      },
      "text/plain": [
       "  0%|          | 0/99 [00:00<?, ?it/s]"
      ]
     },
     "metadata": {},
     "output_type": "display_data"
    },
    {
     "data": {
      "application/vnd.jupyter.widget-view+json": {
       "model_id": "cbbdc3662e2d4357afd3da73a57e3d6e",
       "version_major": 2,
       "version_minor": 0
      },
      "text/plain": [
       "  0%|          | 0/99 [00:00<?, ?it/s]"
      ]
     },
     "metadata": {},
     "output_type": "display_data"
    },
    {
     "data": {
      "application/vnd.jupyter.widget-view+json": {
       "model_id": "7e4a9763a84f406a99a77d9852ca8bc8",
       "version_major": 2,
       "version_minor": 0
      },
      "text/plain": [
       "  0%|          | 0/99 [00:00<?, ?it/s]"
      ]
     },
     "metadata": {},
     "output_type": "display_data"
    },
    {
     "data": {
      "application/vnd.jupyter.widget-view+json": {
       "model_id": "0467a49074ab4a62a7f8b61f8225aa5b",
       "version_major": 2,
       "version_minor": 0
      },
      "text/plain": [
       "  0%|          | 0/99 [00:00<?, ?it/s]"
      ]
     },
     "metadata": {},
     "output_type": "display_data"
    },
    {
     "data": {
      "application/vnd.jupyter.widget-view+json": {
       "model_id": "f05246aa7bac4c03a2bbfed0443ddf15",
       "version_major": 2,
       "version_minor": 0
      },
      "text/plain": [
       "  0%|          | 0/99 [00:00<?, ?it/s]"
      ]
     },
     "metadata": {},
     "output_type": "display_data"
    },
    {
     "data": {
      "application/vnd.jupyter.widget-view+json": {
       "model_id": "398b901155e04b5a9c5a1d442491fc8b",
       "version_major": 2,
       "version_minor": 0
      },
      "text/plain": [
       "  0%|          | 0/99 [00:00<?, ?it/s]"
      ]
     },
     "metadata": {},
     "output_type": "display_data"
    },
    {
     "data": {
      "application/vnd.jupyter.widget-view+json": {
       "model_id": "cf163b9b85a547218f01f59ad410c5d0",
       "version_major": 2,
       "version_minor": 0
      },
      "text/plain": [
       "  0%|          | 0/99 [00:00<?, ?it/s]"
      ]
     },
     "metadata": {},
     "output_type": "display_data"
    },
    {
     "data": {
      "application/vnd.jupyter.widget-view+json": {
       "model_id": "046a2576f6b54cca880c8765a1715096",
       "version_major": 2,
       "version_minor": 0
      },
      "text/plain": [
       "  0%|          | 0/99 [00:00<?, ?it/s]"
      ]
     },
     "metadata": {},
     "output_type": "display_data"
    },
    {
     "data": {
      "application/vnd.jupyter.widget-view+json": {
       "model_id": "66bd3b4fac4d4acda7ce80fb54681ffe",
       "version_major": 2,
       "version_minor": 0
      },
      "text/plain": [
       "  0%|          | 0/99 [00:00<?, ?it/s]"
      ]
     },
     "metadata": {},
     "output_type": "display_data"
    },
    {
     "data": {
      "application/vnd.jupyter.widget-view+json": {
       "model_id": "19e04212931b427783310b4bc72c8bb5",
       "version_major": 2,
       "version_minor": 0
      },
      "text/plain": [
       "  0%|          | 0/99 [00:00<?, ?it/s]"
      ]
     },
     "metadata": {},
     "output_type": "display_data"
    }
   ],
   "source": [
    "predictor=training_model(params.modele,train_ds,target_dim,params=params)"
   ]
  },
  {
   "cell_type": "code",
   "execution_count": 11,
   "metadata": {},
   "outputs": [
    {
     "name": "stdout",
     "output_type": "stream",
     "text": [
      "predicting\n"
     ]
    },
    {
     "name": "stderr",
     "output_type": "stream",
     "text": [
      "Running evaluation: 6it [00:00, 101.83it/s]\n",
      "Running evaluation: 6it [00:00, 110.22it/s]\n",
      "Running evaluation: 6it [00:00, 140.52it/s]\n",
      "Running evaluation: 6it [00:00, 113.65it/s]\n",
      "Running evaluation: 6it [00:00, 97.54it/s]\n",
      "Running evaluation: 6it [00:00, 120.33it/s]\n",
      "Running evaluation: 6it [00:00, 120.11it/s]\n",
      "Running evaluation: 6it [00:00, 86.31it/s]\n",
      "Running evaluation: 6it [00:00, 89.70it/s]\n",
      "Running evaluation: 6it [00:00, 88.90it/s]\n",
      "Running evaluation: 6it [00:00, 151.02it/s]\n",
      "Running evaluation: 6it [00:00, 115.66it/s]\n",
      "Running evaluation: 6it [00:00, 124.65it/s]\n",
      "Running evaluation: 6it [00:00, 120.31it/s]\n",
      "Running evaluation: 6it [00:00, 117.42it/s]\n",
      "Running evaluation: 6it [00:00, 116.92it/s]\n",
      "Running evaluation: 6it [00:00, 115.85it/s]\n",
      "Running evaluation: 6it [00:00, 149.09it/s]\n",
      "Running evaluation: 6it [00:00, 95.82it/s]\n",
      "Running evaluation: 6it [00:00, 122.14it/s]\n",
      "Running evaluation: 6it [00:00, 144.80it/s]\n",
      "Running evaluation: 6it [00:00, 118.83it/s]\n",
      "Running evaluation: 6it [00:00, 124.74it/s]\n",
      "Running evaluation: 6it [00:00, 120.26it/s]\n",
      "Running evaluation: 6it [00:00, 126.31it/s]\n",
      "Running evaluation: 6it [00:00, 74.19it/s]\n",
      "Running evaluation: 6it [00:00, 118.50it/s]\n",
      "Running evaluation: 6it [00:00, 120.50it/s]\n",
      "Running evaluation: 6it [00:00, 124.75it/s]\n",
      "Running evaluation: 6it [00:00, 120.84it/s]\n",
      "Running evaluation: 6it [00:00, 120.47it/s]\n",
      "Running evaluation: 6it [00:00, 153.54it/s]\n",
      "Running evaluation: 6it [00:00, 122.55it/s]\n",
      "Running evaluation: 6it [00:00, 115.50it/s]\n",
      "Running evaluation: 6it [00:00, 120.99it/s]\n",
      "Running evaluation: 6it [00:00, 114.16it/s]\n",
      "Running evaluation: 6it [00:00, 120.57it/s]\n",
      "Running evaluation: 6it [00:00, 108.22it/s]\n",
      "Running evaluation: 6it [00:00, 120.27it/s]\n",
      "Running evaluation: 6it [00:00, 125.39it/s]\n",
      "Running evaluation: 6it [00:00, 137.94it/s]\n",
      "Running evaluation: 6it [00:00, 121.29it/s]\n",
      "Running evaluation: 6it [00:00, 158.24it/s]\n",
      "Running evaluation: 6it [00:00, 119.82it/s]\n",
      "Running evaluation: 6it [00:00, 120.14it/s]\n",
      "Running evaluation: 6it [00:00, 140.64it/s]\n",
      "Running evaluation: 6it [00:00, 121.29it/s]\n",
      "Running evaluation: 6it [00:00, 132.64it/s]\n",
      "Running evaluation: 6it [00:00, 135.25it/s]\n",
      "Running evaluation: 6it [00:00, 120.48it/s]\n",
      "Running evaluation: 6it [00:00, 120.05it/s]\n",
      "Running evaluation: 6it [00:00, 114.69it/s]\n",
      "Running evaluation: 6it [00:00, 101.40it/s]\n",
      "Running evaluation: 6it [00:00, 119.02it/s]\n",
      "Running evaluation: 6it [00:00, 101.41it/s]\n",
      "Running evaluation: 6it [00:00, 122.20it/s]\n",
      "Running evaluation: 6it [00:00, 114.02it/s]\n",
      "Running evaluation: 6it [00:00, 157.02it/s]\n",
      "Running evaluation: 6it [00:00, 120.26it/s]\n",
      "Running evaluation: 6it [00:00, 120.55it/s]\n",
      "Running evaluation: 6it [00:00, 178.75it/s]\n",
      "Running evaluation: 6it [00:00, 115.77it/s]\n",
      "Running evaluation: 6it [00:00, 160.03it/s]\n",
      "Running evaluation: 6it [00:00, 121.29it/s]\n",
      "Running evaluation: 6it [00:00, 127.24it/s]\n",
      "Running evaluation: 6it [00:00, 135.18it/s]\n",
      "Running evaluation: 6it [00:00, 126.27it/s]\n",
      "Running evaluation: 6it [00:00, 113.67it/s]\n",
      "Running evaluation: 6it [00:00, 120.03it/s]\n",
      "Running evaluation: 6it [00:00, 120.37it/s]\n",
      "Running evaluation: 6it [00:00, 114.97it/s]\n",
      "Running evaluation: 6it [00:00, 119.51it/s]\n",
      "Running evaluation: 6it [00:00, 120.68it/s]\n",
      "Running evaluation: 6it [00:00, 146.29it/s]\n",
      "Running evaluation: 6it [00:00, 119.17it/s]\n",
      "Running evaluation: 6it [00:00, 120.74it/s]\n",
      "Running evaluation: 6it [00:00, 112.79it/s]\n",
      "Running evaluation: 6it [00:00, 101.92it/s]\n",
      "Running evaluation: 6it [00:00, 88.76it/s]\n",
      "Running evaluation: 6it [00:00, 120.79it/s]\n",
      "Running evaluation: 6it [00:00, 154.30it/s]\n",
      "Running evaluation: 6it [00:00, 127.35it/s]\n",
      "Running evaluation: 6it [00:00, 119.34it/s]\n",
      "Running evaluation: 6it [00:00, 151.20it/s]\n",
      "Running evaluation: 6it [00:00, 120.09it/s]\n",
      "Running evaluation: 6it [00:00, 120.38it/s]\n",
      "Running evaluation: 6it [00:00, 125.49it/s]\n",
      "Running evaluation: 6it [00:00, 119.77it/s]\n",
      "Running evaluation: 6it [00:00, 150.27it/s]\n",
      "Running evaluation: 6it [00:00, 124.37it/s]\n",
      "Running evaluation: 6it [00:00, 126.23it/s]\n",
      "Running evaluation: 6it [00:00, 125.34it/s]\n",
      "Running evaluation: 6it [00:00, 120.32it/s]\n",
      "Running evaluation: 6it [00:00, 112.41it/s]\n",
      "Running evaluation: 6it [00:00, 152.47it/s]\n",
      "Running evaluation: 6it [00:00, 121.00it/s]\n",
      "Running evaluation: 6it [00:00, 120.19it/s]\n",
      "Running evaluation: 6it [00:00, 138.61it/s]\n",
      "Running evaluation: 6it [00:00, 127.41it/s]\n",
      "Running evaluation: 6it [00:00, 113.77it/s]\n",
      "Running evaluation: 6it [00:00, 115.91it/s]\n",
      "Running evaluation: 6it [00:00, 138.94it/s]\n",
      "Running evaluation: 6it [00:00, 119.83it/s]\n",
      "Running evaluation: 6it [00:00, 120.08it/s]\n",
      "Running evaluation: 6it [00:00, 124.57it/s]\n",
      "Running evaluation: 6it [00:00, 112.29it/s]\n",
      "Running evaluation: 6it [00:00, 131.14it/s]\n",
      "Running evaluation: 6it [00:00, 119.39it/s]\n",
      "Running evaluation: 6it [00:00, 125.49it/s]\n",
      "Running evaluation: 6it [00:00, 119.99it/s]\n",
      "Running evaluation: 6it [00:00, 150.46it/s]\n",
      "Running evaluation: 6it [00:00, 121.23it/s]\n",
      "Running evaluation: 6it [00:00, 127.85it/s]\n",
      "Running evaluation: 6it [00:00, 141.90it/s]\n",
      "Running evaluation: 6it [00:00, 116.75it/s]\n",
      "Running evaluation: 6it [00:00, 122.65it/s]\n",
      "Running evaluation: 6it [00:00, 120.41it/s]\n",
      "Running evaluation: 6it [00:00, 120.02it/s]\n",
      "Running evaluation: 6it [00:00, 133.40it/s]\n",
      "Running evaluation: 6it [00:00, 121.42it/s]\n",
      "Running evaluation: 6it [00:00, 120.11it/s]\n",
      "Running evaluation: 6it [00:00, 138.08it/s]\n",
      "Running evaluation: 6it [00:00, 120.09it/s]\n",
      "Running evaluation: 6it [00:00, 114.24it/s]\n",
      "Running evaluation: 6it [00:00, 120.20it/s]\n",
      "Running evaluation: 6it [00:00, 149.94it/s]\n",
      "Running evaluation: 6it [00:00, 120.13it/s]\n",
      "Running evaluation: 6it [00:00, 129.01it/s]\n",
      "Running evaluation: 6it [00:00, 159.86it/s]\n",
      "Running evaluation: 6it [00:00, 120.86it/s]\n",
      "Running evaluation: 6it [00:00, 81.25it/s]\n",
      "Running evaluation: 6it [00:00, 110.11it/s]\n",
      "Running evaluation: 6it [00:00, 126.53it/s]\n",
      "Running evaluation: 6it [00:00, 119.64it/s]\n",
      "Running evaluation: 6it [00:00, 152.63it/s]\n",
      "Running evaluation: 6it [00:00, 126.26it/s]\n",
      "Running evaluation: 6it [00:00, 120.27it/s]\n",
      "Running evaluation: 6it [00:00, 126.62it/s]\n",
      "Running evaluation: 6it [00:00, 120.41it/s]\n",
      "Running evaluation: 6it [00:00, 151.96it/s]\n",
      "Running evaluation: 6it [00:00, 127.35it/s]\n",
      "Running evaluation: 6it [00:00, 120.51it/s]\n",
      "Running evaluation: 6it [00:00, 153.22it/s]\n",
      "Running evaluation: 6it [00:00, 131.03it/s]\n",
      "Running evaluation: 6it [00:00, 123.13it/s]\n",
      "Running evaluation: 6it [00:00, 151.23it/s]\n",
      "Running evaluation: 6it [00:00, 137.83it/s]\n",
      "Running evaluation: 6it [00:00, 105.58it/s]\n",
      "Running evaluation: 6it [00:00, 180.60it/s]\n",
      "Running evaluation: 6it [00:00, 112.98it/s]\n",
      "Running evaluation: 6it [00:00, 134.33it/s]\n",
      "Running evaluation: 6it [00:00, 123.72it/s]\n"
     ]
    },
    {
     "name": "stdout",
     "output_type": "stream",
     "text": [
      "CRPS: 0.8920728582998628\n",
      "ND: 1.0247764499760335\n",
      "NRMSE: 3.028756860863825\n",
      "MSE: 4.438692572281981\n",
      "CRPS-Sum: 0.4669271234316266\n",
      "ND-Sum: 0.6116097254590833\n",
      "NRMSE-Sum: 0.6978603904973183\n",
      "MSE-Sum: 5373.004909939235\n",
      "Done\n"
     ]
    }
   ],
   "source": [
    "forecasts, targets=metrics_rolling_dataset(params.model_type, test_ds, predictor, params,0)"
   ]
  },
  {
   "cell_type": "code",
   "execution_count": 10,
   "metadata": {},
   "outputs": [],
   "source": [
    "# from pathlib import Path\n",
    "\n",
    "# # Get the current working directory\n",
    "# current_directory = Path.cwd()\n",
    "\n",
    "# # Define the path for the serialization within the current directory\n",
    "# serialization_path = current_directory / \"noex402040(batch40)120epoch\"\n",
    "\n",
    "# # Ensure the directory exists\n",
    "# serialization_path.mkdir(parents=True, exist_ok=True)\n",
    "\n",
    "# # Perform the serialization\n",
    "# predictor.serialize(serialization_path)\n"
   ]
  },
  {
   "cell_type": "code",
   "execution_count": 11,
   "metadata": {},
   "outputs": [],
   "source": [
    "import dill\n",
    "with open('forecasts_and_targetsnoex402040(batch40)120epoch.dill', 'wb') as f:\n",
    "    dill.dump({'forecasts': forecasts, 'targets': targets}, f)"
   ]
  },
  {
   "cell_type": "code",
   "execution_count": 12,
   "metadata": {},
   "outputs": [
    {
     "data": {
      "text/plain": [
       "6"
      ]
     },
     "execution_count": 12,
     "metadata": {},
     "output_type": "execute_result"
    }
   ],
   "source": [
    "len(forecasts)"
   ]
  },
  {
   "cell_type": "code",
   "execution_count": 13,
   "metadata": {},
   "outputs": [
    {
     "data": {
      "text/plain": [
       "Timestamp('2024-03-26 00:00:00', freq='15T')"
      ]
     },
     "execution_count": 13,
     "metadata": {},
     "output_type": "execute_result"
    }
   ],
   "source": [
    "forecasts[5].start_date"
   ]
  },
  {
   "cell_type": "code",
   "execution_count": 15,
   "metadata": {},
   "outputs": [
    {
     "data": {
      "text/plain": [
       "96"
      ]
     },
     "execution_count": 15,
     "metadata": {},
     "output_type": "execute_result"
    }
   ],
   "source": [
    "len(forecasts[5].mean)"
   ]
  },
  {
   "cell_type": "code",
   "execution_count": 14,
   "metadata": {},
   "outputs": [
    {
     "data": {
      "text/html": [
       "<div>\n",
       "<style scoped>\n",
       "    .dataframe tbody tr th:only-of-type {\n",
       "        vertical-align: middle;\n",
       "    }\n",
       "\n",
       "    .dataframe tbody tr th {\n",
       "        vertical-align: top;\n",
       "    }\n",
       "\n",
       "    .dataframe thead th {\n",
       "        text-align: right;\n",
       "    }\n",
       "</style>\n",
       "<table border=\"1\" class=\"dataframe\">\n",
       "  <thead>\n",
       "    <tr style=\"text-align: right;\">\n",
       "      <th></th>\n",
       "      <th>0</th>\n",
       "      <th>1</th>\n",
       "      <th>2</th>\n",
       "      <th>3</th>\n",
       "      <th>4</th>\n",
       "      <th>5</th>\n",
       "      <th>6</th>\n",
       "      <th>7</th>\n",
       "      <th>8</th>\n",
       "      <th>9</th>\n",
       "      <th>...</th>\n",
       "      <th>575</th>\n",
       "      <th>576</th>\n",
       "      <th>577</th>\n",
       "      <th>578</th>\n",
       "      <th>579</th>\n",
       "      <th>580</th>\n",
       "      <th>581</th>\n",
       "      <th>582</th>\n",
       "      <th>583</th>\n",
       "      <th>584</th>\n",
       "    </tr>\n",
       "  </thead>\n",
       "  <tbody>\n",
       "    <tr>\n",
       "      <th>2024-03-24 00:00:00</th>\n",
       "      <td>0.0</td>\n",
       "      <td>0.0</td>\n",
       "      <td>0.0</td>\n",
       "      <td>0.0</td>\n",
       "      <td>0.0</td>\n",
       "      <td>0.0</td>\n",
       "      <td>1.0</td>\n",
       "      <td>0.0</td>\n",
       "      <td>0.0</td>\n",
       "      <td>0.0</td>\n",
       "      <td>...</td>\n",
       "      <td>0.0</td>\n",
       "      <td>0.0</td>\n",
       "      <td>0.0</td>\n",
       "      <td>0.0</td>\n",
       "      <td>0.0</td>\n",
       "      <td>0.0</td>\n",
       "      <td>0.0</td>\n",
       "      <td>0.0</td>\n",
       "      <td>0.0</td>\n",
       "      <td>0.0</td>\n",
       "    </tr>\n",
       "    <tr>\n",
       "      <th>2024-03-24 00:15:00</th>\n",
       "      <td>0.0</td>\n",
       "      <td>1.0</td>\n",
       "      <td>0.0</td>\n",
       "      <td>0.0</td>\n",
       "      <td>0.0</td>\n",
       "      <td>0.0</td>\n",
       "      <td>0.0</td>\n",
       "      <td>0.0</td>\n",
       "      <td>0.0</td>\n",
       "      <td>0.0</td>\n",
       "      <td>...</td>\n",
       "      <td>0.0</td>\n",
       "      <td>0.0</td>\n",
       "      <td>1.0</td>\n",
       "      <td>0.0</td>\n",
       "      <td>0.0</td>\n",
       "      <td>0.0</td>\n",
       "      <td>0.0</td>\n",
       "      <td>0.0</td>\n",
       "      <td>0.0</td>\n",
       "      <td>1.0</td>\n",
       "    </tr>\n",
       "    <tr>\n",
       "      <th>2024-03-24 00:30:00</th>\n",
       "      <td>0.0</td>\n",
       "      <td>0.0</td>\n",
       "      <td>0.0</td>\n",
       "      <td>0.0</td>\n",
       "      <td>0.0</td>\n",
       "      <td>0.0</td>\n",
       "      <td>0.0</td>\n",
       "      <td>0.0</td>\n",
       "      <td>0.0</td>\n",
       "      <td>0.0</td>\n",
       "      <td>...</td>\n",
       "      <td>0.0</td>\n",
       "      <td>0.0</td>\n",
       "      <td>0.0</td>\n",
       "      <td>0.0</td>\n",
       "      <td>0.0</td>\n",
       "      <td>0.0</td>\n",
       "      <td>0.0</td>\n",
       "      <td>0.0</td>\n",
       "      <td>0.0</td>\n",
       "      <td>0.0</td>\n",
       "    </tr>\n",
       "    <tr>\n",
       "      <th>2024-03-24 00:45:00</th>\n",
       "      <td>0.0</td>\n",
       "      <td>0.0</td>\n",
       "      <td>0.0</td>\n",
       "      <td>0.0</td>\n",
       "      <td>0.0</td>\n",
       "      <td>0.0</td>\n",
       "      <td>0.0</td>\n",
       "      <td>0.0</td>\n",
       "      <td>0.0</td>\n",
       "      <td>0.0</td>\n",
       "      <td>...</td>\n",
       "      <td>0.0</td>\n",
       "      <td>0.0</td>\n",
       "      <td>0.0</td>\n",
       "      <td>0.0</td>\n",
       "      <td>0.0</td>\n",
       "      <td>0.0</td>\n",
       "      <td>0.0</td>\n",
       "      <td>0.0</td>\n",
       "      <td>0.0</td>\n",
       "      <td>0.0</td>\n",
       "    </tr>\n",
       "    <tr>\n",
       "      <th>2024-03-24 01:00:00</th>\n",
       "      <td>0.0</td>\n",
       "      <td>0.0</td>\n",
       "      <td>0.0</td>\n",
       "      <td>0.0</td>\n",
       "      <td>0.0</td>\n",
       "      <td>0.0</td>\n",
       "      <td>0.0</td>\n",
       "      <td>0.0</td>\n",
       "      <td>0.0</td>\n",
       "      <td>0.0</td>\n",
       "      <td>...</td>\n",
       "      <td>0.0</td>\n",
       "      <td>0.0</td>\n",
       "      <td>0.0</td>\n",
       "      <td>0.0</td>\n",
       "      <td>0.0</td>\n",
       "      <td>0.0</td>\n",
       "      <td>0.0</td>\n",
       "      <td>0.0</td>\n",
       "      <td>0.0</td>\n",
       "      <td>0.0</td>\n",
       "    </tr>\n",
       "    <tr>\n",
       "      <th>...</th>\n",
       "      <td>...</td>\n",
       "      <td>...</td>\n",
       "      <td>...</td>\n",
       "      <td>...</td>\n",
       "      <td>...</td>\n",
       "      <td>...</td>\n",
       "      <td>...</td>\n",
       "      <td>...</td>\n",
       "      <td>...</td>\n",
       "      <td>...</td>\n",
       "      <td>...</td>\n",
       "      <td>...</td>\n",
       "      <td>...</td>\n",
       "      <td>...</td>\n",
       "      <td>...</td>\n",
       "      <td>...</td>\n",
       "      <td>...</td>\n",
       "      <td>...</td>\n",
       "      <td>...</td>\n",
       "      <td>...</td>\n",
       "      <td>...</td>\n",
       "    </tr>\n",
       "    <tr>\n",
       "      <th>2024-03-31 22:45:00</th>\n",
       "      <td>0.0</td>\n",
       "      <td>0.0</td>\n",
       "      <td>0.0</td>\n",
       "      <td>0.0</td>\n",
       "      <td>0.0</td>\n",
       "      <td>0.0</td>\n",
       "      <td>0.0</td>\n",
       "      <td>0.0</td>\n",
       "      <td>0.0</td>\n",
       "      <td>0.0</td>\n",
       "      <td>...</td>\n",
       "      <td>0.0</td>\n",
       "      <td>0.0</td>\n",
       "      <td>0.0</td>\n",
       "      <td>0.0</td>\n",
       "      <td>0.0</td>\n",
       "      <td>0.0</td>\n",
       "      <td>0.0</td>\n",
       "      <td>0.0</td>\n",
       "      <td>0.0</td>\n",
       "      <td>0.0</td>\n",
       "    </tr>\n",
       "    <tr>\n",
       "      <th>2024-03-31 23:00:00</th>\n",
       "      <td>0.0</td>\n",
       "      <td>0.0</td>\n",
       "      <td>0.0</td>\n",
       "      <td>0.0</td>\n",
       "      <td>0.0</td>\n",
       "      <td>0.0</td>\n",
       "      <td>0.0</td>\n",
       "      <td>0.0</td>\n",
       "      <td>0.0</td>\n",
       "      <td>0.0</td>\n",
       "      <td>...</td>\n",
       "      <td>0.0</td>\n",
       "      <td>0.0</td>\n",
       "      <td>0.0</td>\n",
       "      <td>0.0</td>\n",
       "      <td>0.0</td>\n",
       "      <td>0.0</td>\n",
       "      <td>0.0</td>\n",
       "      <td>0.0</td>\n",
       "      <td>0.0</td>\n",
       "      <td>0.0</td>\n",
       "    </tr>\n",
       "    <tr>\n",
       "      <th>2024-03-31 23:15:00</th>\n",
       "      <td>0.0</td>\n",
       "      <td>0.0</td>\n",
       "      <td>0.0</td>\n",
       "      <td>0.0</td>\n",
       "      <td>0.0</td>\n",
       "      <td>0.0</td>\n",
       "      <td>0.0</td>\n",
       "      <td>0.0</td>\n",
       "      <td>0.0</td>\n",
       "      <td>0.0</td>\n",
       "      <td>...</td>\n",
       "      <td>0.0</td>\n",
       "      <td>0.0</td>\n",
       "      <td>1.0</td>\n",
       "      <td>0.0</td>\n",
       "      <td>0.0</td>\n",
       "      <td>0.0</td>\n",
       "      <td>0.0</td>\n",
       "      <td>0.0</td>\n",
       "      <td>0.0</td>\n",
       "      <td>0.0</td>\n",
       "    </tr>\n",
       "    <tr>\n",
       "      <th>2024-03-31 23:30:00</th>\n",
       "      <td>0.0</td>\n",
       "      <td>0.0</td>\n",
       "      <td>0.0</td>\n",
       "      <td>0.0</td>\n",
       "      <td>0.0</td>\n",
       "      <td>0.0</td>\n",
       "      <td>0.0</td>\n",
       "      <td>0.0</td>\n",
       "      <td>0.0</td>\n",
       "      <td>0.0</td>\n",
       "      <td>...</td>\n",
       "      <td>0.0</td>\n",
       "      <td>1.0</td>\n",
       "      <td>0.0</td>\n",
       "      <td>0.0</td>\n",
       "      <td>0.0</td>\n",
       "      <td>0.0</td>\n",
       "      <td>0.0</td>\n",
       "      <td>0.0</td>\n",
       "      <td>0.0</td>\n",
       "      <td>0.0</td>\n",
       "    </tr>\n",
       "    <tr>\n",
       "      <th>2024-03-31 23:45:00</th>\n",
       "      <td>0.0</td>\n",
       "      <td>0.0</td>\n",
       "      <td>0.0</td>\n",
       "      <td>0.0</td>\n",
       "      <td>0.0</td>\n",
       "      <td>0.0</td>\n",
       "      <td>0.0</td>\n",
       "      <td>0.0</td>\n",
       "      <td>0.0</td>\n",
       "      <td>0.0</td>\n",
       "      <td>...</td>\n",
       "      <td>0.0</td>\n",
       "      <td>0.0</td>\n",
       "      <td>0.0</td>\n",
       "      <td>0.0</td>\n",
       "      <td>0.0</td>\n",
       "      <td>0.0</td>\n",
       "      <td>0.0</td>\n",
       "      <td>0.0</td>\n",
       "      <td>0.0</td>\n",
       "      <td>0.0</td>\n",
       "    </tr>\n",
       "  </tbody>\n",
       "</table>\n",
       "<p>768 rows × 585 columns</p>\n",
       "</div>"
      ],
      "text/plain": [
       "                     0    1    2    3    4    5    6    7    8    9    ...  \\\n",
       "2024-03-24 00:00:00  0.0  0.0  0.0  0.0  0.0  0.0  1.0  0.0  0.0  0.0  ...   \n",
       "2024-03-24 00:15:00  0.0  1.0  0.0  0.0  0.0  0.0  0.0  0.0  0.0  0.0  ...   \n",
       "2024-03-24 00:30:00  0.0  0.0  0.0  0.0  0.0  0.0  0.0  0.0  0.0  0.0  ...   \n",
       "2024-03-24 00:45:00  0.0  0.0  0.0  0.0  0.0  0.0  0.0  0.0  0.0  0.0  ...   \n",
       "2024-03-24 01:00:00  0.0  0.0  0.0  0.0  0.0  0.0  0.0  0.0  0.0  0.0  ...   \n",
       "...                  ...  ...  ...  ...  ...  ...  ...  ...  ...  ...  ...   \n",
       "2024-03-31 22:45:00  0.0  0.0  0.0  0.0  0.0  0.0  0.0  0.0  0.0  0.0  ...   \n",
       "2024-03-31 23:00:00  0.0  0.0  0.0  0.0  0.0  0.0  0.0  0.0  0.0  0.0  ...   \n",
       "2024-03-31 23:15:00  0.0  0.0  0.0  0.0  0.0  0.0  0.0  0.0  0.0  0.0  ...   \n",
       "2024-03-31 23:30:00  0.0  0.0  0.0  0.0  0.0  0.0  0.0  0.0  0.0  0.0  ...   \n",
       "2024-03-31 23:45:00  0.0  0.0  0.0  0.0  0.0  0.0  0.0  0.0  0.0  0.0  ...   \n",
       "\n",
       "                     575  576  577  578  579  580  581  582  583  584  \n",
       "2024-03-24 00:00:00  0.0  0.0  0.0  0.0  0.0  0.0  0.0  0.0  0.0  0.0  \n",
       "2024-03-24 00:15:00  0.0  0.0  1.0  0.0  0.0  0.0  0.0  0.0  0.0  1.0  \n",
       "2024-03-24 00:30:00  0.0  0.0  0.0  0.0  0.0  0.0  0.0  0.0  0.0  0.0  \n",
       "2024-03-24 00:45:00  0.0  0.0  0.0  0.0  0.0  0.0  0.0  0.0  0.0  0.0  \n",
       "2024-03-24 01:00:00  0.0  0.0  0.0  0.0  0.0  0.0  0.0  0.0  0.0  0.0  \n",
       "...                  ...  ...  ...  ...  ...  ...  ...  ...  ...  ...  \n",
       "2024-03-31 22:45:00  0.0  0.0  0.0  0.0  0.0  0.0  0.0  0.0  0.0  0.0  \n",
       "2024-03-31 23:00:00  0.0  0.0  0.0  0.0  0.0  0.0  0.0  0.0  0.0  0.0  \n",
       "2024-03-31 23:15:00  0.0  0.0  1.0  0.0  0.0  0.0  0.0  0.0  0.0  0.0  \n",
       "2024-03-31 23:30:00  0.0  1.0  0.0  0.0  0.0  0.0  0.0  0.0  0.0  0.0  \n",
       "2024-03-31 23:45:00  0.0  0.0  0.0  0.0  0.0  0.0  0.0  0.0  0.0  0.0  \n",
       "\n",
       "[768 rows x 585 columns]"
      ]
     },
     "execution_count": 14,
     "metadata": {},
     "output_type": "execute_result"
    }
   ],
   "source": [
    "targets[0]"
   ]
  },
  {
   "cell_type": "code",
   "execution_count": 15,
   "metadata": {},
   "outputs": [
    {
     "data": {
      "text/plain": [
       "Timestamp('2024-03-30 18:00:00', freq='15T')"
      ]
     },
     "execution_count": 15,
     "metadata": {},
     "output_type": "execute_result"
    }
   ],
   "source": [
    "forecasts[1].start_date"
   ]
  },
  {
   "cell_type": "code",
   "execution_count": 11,
   "metadata": {},
   "outputs": [],
   "source": [
    "#Sửa code để hiện legend đẹp\n",
    "def plot2(target, forecast, prediction_length, dim, prediction_intervals=(50.0, 90.0), color='r', fname=None):\n",
    "    label_prefix = \"\"\n",
    "    fig, ax = plt.subplots(figsize=(8, 4))  # Directly using `ax` for the single subplot\n",
    "    seq_len, target_dim = target.shape\n",
    "    ps = [50.0] + [\n",
    "            50.0 + f * c / 2.0 for c in prediction_intervals for f in [-1.0, +1.0]\n",
    "        ]\n",
    "        \n",
    "    percentiles_sorted = sorted(set(ps))\n",
    "    def alpha_for_percentile(p):\n",
    "        return (p / 100.0) ** 0.3 \n",
    "    target[-2 * prediction_length :][dim].plot(ax=ax, label=\"real\")\n",
    "    ps_data = [forecast.quantile(p / 100.0)[:, dim] for p in percentiles_sorted]\n",
    "    i_p50 = len(percentiles_sorted) // 2\n",
    "    \n",
    "    p50_data = ps_data[i_p50]\n",
    "    p50_series = pd.Series(data=p50_data, index=forecast.index)\n",
    "    p50_series.plot(color=color, ls=\"-\", label=f\"{label_prefix}median predicted samples\", ax=ax)\n",
    "    \n",
    "    for i in range(len(percentiles_sorted) // 2):\n",
    "        ptile = percentiles_sorted[i]\n",
    "        alpha = alpha_for_percentile(ptile)\n",
    "        ax.fill_between(\n",
    "            forecast.index,\n",
    "            ps_data[i],\n",
    "            ps_data[-i - 1],\n",
    "            facecolor=color,\n",
    "            alpha=alpha,\n",
    "            interpolate=True\n",
    "        )\n",
    "        \n",
    "        # Creating a single point series to label the intervals\n",
    "        single_point_series = pd.Series(data=p50_data[:1], index=forecast.index[:1])\n",
    "        single_point_series.plot(\n",
    "            color=color,\n",
    "            alpha=alpha,\n",
    "            linewidth=10,\n",
    "            label=f\"{label_prefix}{100 - ptile * 2}%\",\n",
    "            ax=ax\n",
    "        )\n",
    "    \n",
    "    ax.legend()  # Add legend\n",
    "    return p50_series  # Return the median series\n"
   ]
  },
  {
   "cell_type": "code",
   "execution_count": 60,
   "metadata": {},
   "outputs": [
    {
     "data": {
      "image/png": "[encoded data removed]",
      "text/plain": [
       "<Figure size 800x400 with 1 Axes>"
      ]
     },
     "metadata": {},
     "output_type": "display_data"
    }
   ],
   "source": [
    "test=plot2(target=targets[1], forecast=forecasts[1], prediction_length=96, dim=150, prediction_intervals=(50.0, 90.0), color='r', fname=None)"
   ]
  },
  {
   "cell_type": "code",
   "execution_count": 61,
   "metadata": {},
   "outputs": [
    {
     "data": {
      "text/plain": [
       "array([[0.02, 0.01, 0.  , ..., 0.  , 0.  , 0.  ],\n",
       "       [0.  , 0.01, 0.  , ..., 0.  , 0.  , 0.02],\n",
       "       [0.02, 0.05, 0.  , ..., 0.02, 0.  , 0.11],\n",
       "       ...,\n",
       "       [0.07, 0.08, 0.04, ..., 0.  , 0.01, 0.21],\n",
       "       [0.1 , 0.01, 0.08, ..., 0.04, 0.02, 0.14],\n",
       "       [0.05, 0.02, 0.03, ..., 0.01, 0.06, 0.15]], dtype=float32)"
      ]
     },
     "execution_count": 61,
     "metadata": {},
     "output_type": "execute_result"
    }
   ],
   "source": [
    "forecasts[2].mean"
   ]
  },
  {
   "cell_type": "code",
   "execution_count": 52,
   "metadata": {},
   "outputs": [],
   "source": [
    "data=np.array(forecasts[2].mean)\n",
    "df = pd.DataFrame(data)\n"
   ]
  },
  {
   "cell_type": "code",
   "execution_count": 53,
   "metadata": {},
   "outputs": [
    {
     "data": {
      "text/html": [
       "<div>\n",
       "<style scoped>\n",
       "    .dataframe tbody tr th:only-of-type {\n",
       "        vertical-align: middle;\n",
       "    }\n",
       "\n",
       "    .dataframe tbody tr th {\n",
       "        vertical-align: top;\n",
       "    }\n",
       "\n",
       "    .dataframe thead th {\n",
       "        text-align: right;\n",
       "    }\n",
       "</style>\n",
       "<table border=\"1\" class=\"dataframe\">\n",
       "  <thead>\n",
       "    <tr style=\"text-align: right;\">\n",
       "      <th></th>\n",
       "      <th>0</th>\n",
       "      <th>1</th>\n",
       "      <th>2</th>\n",
       "      <th>3</th>\n",
       "      <th>4</th>\n",
       "      <th>5</th>\n",
       "      <th>6</th>\n",
       "      <th>7</th>\n",
       "      <th>8</th>\n",
       "      <th>9</th>\n",
       "      <th>...</th>\n",
       "      <th>575</th>\n",
       "      <th>576</th>\n",
       "      <th>577</th>\n",
       "      <th>578</th>\n",
       "      <th>579</th>\n",
       "      <th>580</th>\n",
       "      <th>581</th>\n",
       "      <th>582</th>\n",
       "      <th>583</th>\n",
       "      <th>584</th>\n",
       "    </tr>\n",
       "  </thead>\n",
       "  <tbody>\n",
       "    <tr>\n",
       "      <th>0</th>\n",
       "      <td>0.02</td>\n",
       "      <td>0.01</td>\n",
       "      <td>0.00</td>\n",
       "      <td>0.0</td>\n",
       "      <td>0.00</td>\n",
       "      <td>0.00</td>\n",
       "      <td>0.01</td>\n",
       "      <td>0.19</td>\n",
       "      <td>0.00</td>\n",
       "      <td>0.00</td>\n",
       "      <td>...</td>\n",
       "      <td>0.72</td>\n",
       "      <td>0.30</td>\n",
       "      <td>0.80</td>\n",
       "      <td>0.00</td>\n",
       "      <td>0.00</td>\n",
       "      <td>0.00</td>\n",
       "      <td>0.00</td>\n",
       "      <td>0.00</td>\n",
       "      <td>0.00</td>\n",
       "      <td>0.00</td>\n",
       "    </tr>\n",
       "    <tr>\n",
       "      <th>1</th>\n",
       "      <td>0.00</td>\n",
       "      <td>0.01</td>\n",
       "      <td>0.00</td>\n",
       "      <td>0.0</td>\n",
       "      <td>0.00</td>\n",
       "      <td>0.00</td>\n",
       "      <td>0.00</td>\n",
       "      <td>0.00</td>\n",
       "      <td>0.00</td>\n",
       "      <td>0.00</td>\n",
       "      <td>...</td>\n",
       "      <td>0.16</td>\n",
       "      <td>0.00</td>\n",
       "      <td>0.04</td>\n",
       "      <td>0.00</td>\n",
       "      <td>0.00</td>\n",
       "      <td>0.00</td>\n",
       "      <td>0.00</td>\n",
       "      <td>0.00</td>\n",
       "      <td>0.00</td>\n",
       "      <td>0.02</td>\n",
       "    </tr>\n",
       "    <tr>\n",
       "      <th>2</th>\n",
       "      <td>0.02</td>\n",
       "      <td>0.05</td>\n",
       "      <td>0.00</td>\n",
       "      <td>0.0</td>\n",
       "      <td>0.00</td>\n",
       "      <td>0.02</td>\n",
       "      <td>0.00</td>\n",
       "      <td>0.01</td>\n",
       "      <td>0.00</td>\n",
       "      <td>0.00</td>\n",
       "      <td>...</td>\n",
       "      <td>0.33</td>\n",
       "      <td>0.03</td>\n",
       "      <td>0.14</td>\n",
       "      <td>0.00</td>\n",
       "      <td>0.00</td>\n",
       "      <td>0.00</td>\n",
       "      <td>0.00</td>\n",
       "      <td>0.02</td>\n",
       "      <td>0.00</td>\n",
       "      <td>0.11</td>\n",
       "    </tr>\n",
       "    <tr>\n",
       "      <th>3</th>\n",
       "      <td>0.15</td>\n",
       "      <td>0.02</td>\n",
       "      <td>0.00</td>\n",
       "      <td>0.0</td>\n",
       "      <td>0.00</td>\n",
       "      <td>0.02</td>\n",
       "      <td>0.00</td>\n",
       "      <td>0.03</td>\n",
       "      <td>0.00</td>\n",
       "      <td>0.00</td>\n",
       "      <td>...</td>\n",
       "      <td>0.05</td>\n",
       "      <td>0.01</td>\n",
       "      <td>0.04</td>\n",
       "      <td>0.00</td>\n",
       "      <td>0.01</td>\n",
       "      <td>0.00</td>\n",
       "      <td>0.00</td>\n",
       "      <td>0.00</td>\n",
       "      <td>0.00</td>\n",
       "      <td>0.05</td>\n",
       "    </tr>\n",
       "    <tr>\n",
       "      <th>4</th>\n",
       "      <td>0.10</td>\n",
       "      <td>0.00</td>\n",
       "      <td>0.01</td>\n",
       "      <td>0.0</td>\n",
       "      <td>0.02</td>\n",
       "      <td>0.00</td>\n",
       "      <td>0.03</td>\n",
       "      <td>0.06</td>\n",
       "      <td>0.02</td>\n",
       "      <td>0.00</td>\n",
       "      <td>...</td>\n",
       "      <td>0.12</td>\n",
       "      <td>0.00</td>\n",
       "      <td>0.01</td>\n",
       "      <td>0.00</td>\n",
       "      <td>0.02</td>\n",
       "      <td>0.00</td>\n",
       "      <td>0.02</td>\n",
       "      <td>0.00</td>\n",
       "      <td>0.00</td>\n",
       "      <td>0.00</td>\n",
       "    </tr>\n",
       "    <tr>\n",
       "      <th>...</th>\n",
       "      <td>...</td>\n",
       "      <td>...</td>\n",
       "      <td>...</td>\n",
       "      <td>...</td>\n",
       "      <td>...</td>\n",
       "      <td>...</td>\n",
       "      <td>...</td>\n",
       "      <td>...</td>\n",
       "      <td>...</td>\n",
       "      <td>...</td>\n",
       "      <td>...</td>\n",
       "      <td>...</td>\n",
       "      <td>...</td>\n",
       "      <td>...</td>\n",
       "      <td>...</td>\n",
       "      <td>...</td>\n",
       "      <td>...</td>\n",
       "      <td>...</td>\n",
       "      <td>...</td>\n",
       "      <td>...</td>\n",
       "      <td>...</td>\n",
       "    </tr>\n",
       "    <tr>\n",
       "      <th>91</th>\n",
       "      <td>0.09</td>\n",
       "      <td>0.02</td>\n",
       "      <td>0.03</td>\n",
       "      <td>0.0</td>\n",
       "      <td>0.05</td>\n",
       "      <td>0.04</td>\n",
       "      <td>0.03</td>\n",
       "      <td>0.08</td>\n",
       "      <td>0.04</td>\n",
       "      <td>0.01</td>\n",
       "      <td>...</td>\n",
       "      <td>0.13</td>\n",
       "      <td>0.09</td>\n",
       "      <td>0.12</td>\n",
       "      <td>0.05</td>\n",
       "      <td>0.05</td>\n",
       "      <td>0.07</td>\n",
       "      <td>0.05</td>\n",
       "      <td>0.02</td>\n",
       "      <td>0.02</td>\n",
       "      <td>0.10</td>\n",
       "    </tr>\n",
       "    <tr>\n",
       "      <th>92</th>\n",
       "      <td>0.07</td>\n",
       "      <td>0.06</td>\n",
       "      <td>0.05</td>\n",
       "      <td>0.0</td>\n",
       "      <td>0.02</td>\n",
       "      <td>0.05</td>\n",
       "      <td>0.04</td>\n",
       "      <td>0.03</td>\n",
       "      <td>0.01</td>\n",
       "      <td>0.02</td>\n",
       "      <td>...</td>\n",
       "      <td>0.15</td>\n",
       "      <td>0.04</td>\n",
       "      <td>0.17</td>\n",
       "      <td>0.11</td>\n",
       "      <td>0.03</td>\n",
       "      <td>0.11</td>\n",
       "      <td>0.05</td>\n",
       "      <td>0.01</td>\n",
       "      <td>0.00</td>\n",
       "      <td>0.18</td>\n",
       "    </tr>\n",
       "    <tr>\n",
       "      <th>93</th>\n",
       "      <td>0.07</td>\n",
       "      <td>0.08</td>\n",
       "      <td>0.04</td>\n",
       "      <td>0.0</td>\n",
       "      <td>0.03</td>\n",
       "      <td>0.00</td>\n",
       "      <td>0.02</td>\n",
       "      <td>0.05</td>\n",
       "      <td>0.02</td>\n",
       "      <td>0.00</td>\n",
       "      <td>...</td>\n",
       "      <td>0.14</td>\n",
       "      <td>0.07</td>\n",
       "      <td>0.12</td>\n",
       "      <td>0.17</td>\n",
       "      <td>0.05</td>\n",
       "      <td>0.01</td>\n",
       "      <td>0.10</td>\n",
       "      <td>0.00</td>\n",
       "      <td>0.01</td>\n",
       "      <td>0.21</td>\n",
       "    </tr>\n",
       "    <tr>\n",
       "      <th>94</th>\n",
       "      <td>0.10</td>\n",
       "      <td>0.01</td>\n",
       "      <td>0.08</td>\n",
       "      <td>0.0</td>\n",
       "      <td>0.07</td>\n",
       "      <td>0.05</td>\n",
       "      <td>0.05</td>\n",
       "      <td>0.00</td>\n",
       "      <td>0.06</td>\n",
       "      <td>0.00</td>\n",
       "      <td>...</td>\n",
       "      <td>0.05</td>\n",
       "      <td>0.09</td>\n",
       "      <td>0.10</td>\n",
       "      <td>0.06</td>\n",
       "      <td>0.03</td>\n",
       "      <td>0.03</td>\n",
       "      <td>0.05</td>\n",
       "      <td>0.04</td>\n",
       "      <td>0.02</td>\n",
       "      <td>0.14</td>\n",
       "    </tr>\n",
       "    <tr>\n",
       "      <th>95</th>\n",
       "      <td>0.05</td>\n",
       "      <td>0.02</td>\n",
       "      <td>0.03</td>\n",
       "      <td>0.0</td>\n",
       "      <td>0.04</td>\n",
       "      <td>0.06</td>\n",
       "      <td>0.05</td>\n",
       "      <td>0.04</td>\n",
       "      <td>0.06</td>\n",
       "      <td>0.00</td>\n",
       "      <td>...</td>\n",
       "      <td>0.09</td>\n",
       "      <td>0.04</td>\n",
       "      <td>0.08</td>\n",
       "      <td>0.11</td>\n",
       "      <td>0.05</td>\n",
       "      <td>0.03</td>\n",
       "      <td>0.05</td>\n",
       "      <td>0.01</td>\n",
       "      <td>0.06</td>\n",
       "      <td>0.15</td>\n",
       "    </tr>\n",
       "  </tbody>\n",
       "</table>\n",
       "<p>96 rows × 585 columns</p>\n",
       "</div>"
      ],
      "text/plain": [
       "     0     1     2    3     4     5     6     7     8     9    ...   575  \\\n",
       "0   0.02  0.01  0.00  0.0  0.00  0.00  0.01  0.19  0.00  0.00  ...  0.72   \n",
       "1   0.00  0.01  0.00  0.0  0.00  0.00  0.00  0.00  0.00  0.00  ...  0.16   \n",
       "2   0.02  0.05  0.00  0.0  0.00  0.02  0.00  0.01  0.00  0.00  ...  0.33   \n",
       "3   0.15  0.02  0.00  0.0  0.00  0.02  0.00  0.03  0.00  0.00  ...  0.05   \n",
       "4   0.10  0.00  0.01  0.0  0.02  0.00  0.03  0.06  0.02  0.00  ...  0.12   \n",
       "..   ...   ...   ...  ...   ...   ...   ...   ...   ...   ...  ...   ...   \n",
       "91  0.09  0.02  0.03  0.0  0.05  0.04  0.03  0.08  0.04  0.01  ...  0.13   \n",
       "92  0.07  0.06  0.05  0.0  0.02  0.05  0.04  0.03  0.01  0.02  ...  0.15   \n",
       "93  0.07  0.08  0.04  0.0  0.03  0.00  0.02  0.05  0.02  0.00  ...  0.14   \n",
       "94  0.10  0.01  0.08  0.0  0.07  0.05  0.05  0.00  0.06  0.00  ...  0.05   \n",
       "95  0.05  0.02  0.03  0.0  0.04  0.06  0.05  0.04  0.06  0.00  ...  0.09   \n",
       "\n",
       "     576   577   578   579   580   581   582   583   584  \n",
       "0   0.30  0.80  0.00  0.00  0.00  0.00  0.00  0.00  0.00  \n",
       "1   0.00  0.04  0.00  0.00  0.00  0.00  0.00  0.00  0.02  \n",
       "2   0.03  0.14  0.00  0.00  0.00  0.00  0.02  0.00  0.11  \n",
       "3   0.01  0.04  0.00  0.01  0.00  0.00  0.00  0.00  0.05  \n",
       "4   0.00  0.01  0.00  0.02  0.00  0.02  0.00  0.00  0.00  \n",
       "..   ...   ...   ...   ...   ...   ...   ...   ...   ...  \n",
       "91  0.09  0.12  0.05  0.05  0.07  0.05  0.02  0.02  0.10  \n",
       "92  0.04  0.17  0.11  0.03  0.11  0.05  0.01  0.00  0.18  \n",
       "93  0.07  0.12  0.17  0.05  0.01  0.10  0.00  0.01  0.21  \n",
       "94  0.09  0.10  0.06  0.03  0.03  0.05  0.04  0.02  0.14  \n",
       "95  0.04  0.08  0.11  0.05  0.03  0.05  0.01  0.06  0.15  \n",
       "\n",
       "[96 rows x 585 columns]"
      ]
     },
     "execution_count": 53,
     "metadata": {},
     "output_type": "execute_result"
    }
   ],
   "source": [
    "df"
   ]
  },
  {
   "cell_type": "code",
   "execution_count": 54,
   "metadata": {},
   "outputs": [],
   "source": [
    "df.to_csv('thuan.csv')"
   ]
  },
  {
   "cell_type": "code",
   "execution_count": null,
   "metadata": {},
   "outputs": [],
   "source": []
  }
 ],
 "metadata": {
  "kernelspec": {
   "display_name": "test6",
   "language": "python",
   "name": "python3"
  },
  "language_info": {
   "codemirror_mode": {
    "name": "ipython",
    "version": 3
   },
   "file_extension": ".py",
   "mimetype": "text/x-python",
   "name": "python",
   "nbconvert_exporter": "python",
   "pygments_lexer": "ipython3",
   "version": "3.10.12"
  }
 },
 "nbformat": 4,
 "nbformat_minor": 2
}
